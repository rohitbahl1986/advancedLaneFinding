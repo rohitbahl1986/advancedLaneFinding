{
 "cells": [
  {
   "cell_type": "markdown",
   "metadata": {},
   "source": [
    "### Import all the relevant modules"
   ]
  },
  {
   "cell_type": "code",
   "execution_count": 6,
   "metadata": {
    "collapsed": true
   },
   "outputs": [],
   "source": [
    "import numpy as np\n",
    "import matplotlib.pyplot as plt\n",
    "import matplotlib.image as mpimg\n",
    "import cv2\n",
    "import glob\n",
    "import pickle\n",
    "import os\n",
    "from moviepy.editor import *\n",
    "from IPython.display import HTML\n",
    "\n",
    "%matplotlib qt\n",
    "%matplotlib inline"
   ]
  },
  {
   "cell_type": "markdown",
   "metadata": {},
   "source": [
    "### This is the stage-0 of the pipeline : calibrate_camera\n"
   ]
  },
  {
   "cell_type": "code",
   "execution_count": 7,
   "metadata": {
    "collapsed": true
   },
   "outputs": [],
   "source": [
    "\n",
    "def calibrate_camera(debug_logging = False):\n",
    "    \"\"\"\n",
    "    This function calibrates the camera for distortion.\n",
    "    It calculates the camera matrix and distortion matrix and saves it on disk for future use.\n",
    "    \"\"\"\n",
    "    chessboard_size = [9,6]\n",
    "    coordinates = np.zeros((chessboard_size[0]*chessboard_size[1],3), np.float32)\n",
    "    coordinates[:,:2] = np.mgrid[0:chessboard_size[0], 0:chessboard_size[1]].T.reshape(-1,2)\n",
    "\n",
    "    # Points in 3-D space of the reference object. Z co-ordinate is 0.\n",
    "    object_points = []\n",
    "    \n",
    "    # Points in 2-D plane of the image in question\n",
    "    image_points = []\n",
    "    \n",
    "    # Read the images in sequence\n",
    "    images = glob.glob('camera_cal\\calibration*.jpg')\n",
    "    \n",
    "    # Find the corners and append them to the object/image points list\n",
    "    for index, image in enumerate(images):\n",
    "        img = cv2.imread(image)\n",
    "        gray = cv2.cvtColor(img, cv2.COLOR_BGR2GRAY)\n",
    "        \n",
    "        # Find the corners of the chessboard\n",
    "        ret, corners = cv2.findChessboardCorners(gray, (chessboard_size[0], chessboard_size[1]), None)\n",
    "        \n",
    "        # If corners are detected in the image, add them to the array of object and image points.\n",
    "        if ret:\n",
    "            object_points.append(coordinates)\n",
    "            image_points.append(corners)\n",
    "            \n",
    "            if debug_logging:\n",
    "                # Draw and display the corners\n",
    "                cv2.drawChessboardCorners(img, (chessboard_size[0], chessboard_size[1]), corners, ret)\n",
    "                cv2.imshow('img', img)\n",
    "                plt.imshow(img)\n",
    "                cv2.waitKey(500)\n",
    "    \n",
    "    # Test undistortion on an image\n",
    "    img_test = cv2.imread('camera_cal/test_calibration.jpg')\n",
    "    img_size = (img_test.shape[1], img_test.shape[0])\n",
    "        \n",
    "    # Do camera calibration given object points and image points\n",
    "    ret, mtx, dist, rvecs, tvecs = cv2.calibrateCamera(object_points, image_points, img_size, None,None)\n",
    "    \n",
    "    # Save the un-distored image\n",
    "    dst = cv2.undistort(img_test, mtx, dist, None, mtx)\n",
    "    cv2.imwrite('camera_cal/test_undist.jpg',dst)\n",
    "    \n",
    "    # Save the camera matrix and the distortion matrix for future use.\n",
    "    dist_pickle = {}\n",
    "    dist_pickle[\"mtx\"] = mtx\n",
    "    dist_pickle[\"dist\"] = dist\n",
    "    \n",
    "    with open(\"camera_cal/dist_pickle.p\", \"wb\") as file:\n",
    "        pickle.dump(dist_pickle, file)"
   ]
  },
  {
   "cell_type": "markdown",
   "metadata": {},
   "source": [
    "### This is the stage-1 of the pipeline : Undistort images\n"
   ]
  },
  {
   "cell_type": "code",
   "execution_count": 8,
   "metadata": {
    "collapsed": true
   },
   "outputs": [],
   "source": [
    "\n",
    "def undistort(input_image, debug_logging = False):\n",
    "    \"\"\"\n",
    "    This function undistorts the input image using the camera and distortion matrix.\n",
    "    Input param \n",
    "               input_image : Input image\n",
    "    \"\"\"\n",
    "    with open(\"camera_cal/dist_pickle.p\", \"rb\") as file:\n",
    "        matrix = pickle.load(file)\n",
    "\n",
    "    undistorted_image = cv2.undistort(input_image, matrix[\"mtx\"], matrix[\"dist\"], None, matrix[\"mtx\"])\n",
    "    \n",
    "    if debug_logging:\n",
    "        plt.imshow(input_image)\n",
    "        plt.title(\"Undistored image\")\n",
    "        plt.show()\n",
    "     \n",
    "    return undistorted_image\n"
   ]
  },
  {
   "cell_type": "markdown",
   "metadata": {},
   "source": [
    "### This is the stage-2 of the pipeline : Apply gaussian filtering\n"
   ]
  },
  {
   "cell_type": "code",
   "execution_count": 9,
   "metadata": {
    "collapsed": true
   },
   "outputs": [],
   "source": [
    "\n",
    "def gaussian_filter(input_image, gaussian_kernel_size=3, debug_logging=False):\n",
    "    \"\"\"\n",
    "    Ths function applies a Gaussian Noise kernel to smoothen the input image.\n",
    "    \n",
    "    Input params: input_image\n",
    "                  gaussian_kernel_size : Size of the kernel to be applied. Defaults to 3.\n",
    "                  debug_logging : To control logging.\n",
    "    \"\"\"\n",
    "    smooth_image = cv2.GaussianBlur(input_image, (gaussian_kernel_size, gaussian_kernel_size), 0)\n",
    "\n",
    "    if debug_logging:\n",
    "        print(\"Stage-2 : gaussian_filter method invoked!\")\n",
    "        plt.imshow(input_image)\n",
    "        plt.title(\"This is the gaussian filtered image - Stage 2\")\n",
    "        plt.show()\n",
    "\n",
    "    return smooth_image"
   ]
  },
  {
   "cell_type": "markdown",
   "metadata": {},
   "source": [
    "### This is the stage-3 of the pipeline : Apply color thresholding\n"
   ]
  },
  {
   "cell_type": "code",
   "execution_count": 10,
   "metadata": {
    "collapsed": true
   },
   "outputs": [],
   "source": [
    "\n",
    "def color_threshold(input_image, debug_logging=False):\n",
    "    \"\"\"\n",
    "    This function filters the input image based on the color scales.\n",
    "    It filters for yellow in RGB and HLS space and while in RGB space.\n",
    "    Input params : input_image\n",
    "                   debug_logging : To control logging.\n",
    "    \"\"\"\n",
    "    # Select yellow color in HLS space\n",
    "    input_image_hls = cv2.cvtColor(input_image, cv2.COLOR_RGB2HLS)\n",
    "    yellow_threshold_lower_hls = np.array([20,140,85])\n",
    "    yellow_upper_threshold_hls = np.array([35,180,245])\n",
    "    mask = cv2.inRange(input_image_hls, yellow_threshold_lower_hls, yellow_upper_threshold_hls)\n",
    "    yellow_image_hls = cv2.bitwise_and(input_image_hls, input_image_hls, mask=mask)\n",
    "    yellow_hls2gray = cv2.cvtColor(yellow_image_hls, cv2.COLOR_HLS2RGB)\n",
    "    yellow_hls2gray = cv2.cvtColor(yellow_hls2gray, cv2.COLOR_RGB2GRAY)\n",
    "    binary_yellow_image_hls = np.zeros_like(yellow_hls2gray)\n",
    "    binary_yellow_image_hls[yellow_hls2gray > 0] = 1\n",
    "    \n",
    "    if debug_logging:\n",
    "        plt.imshow(binary_yellow_image_hls)\n",
    "        plt.title(\"yellow_image_hls threshold\")\n",
    "        plt.show()\n",
    "\n",
    "    # Select white color in RGB space\n",
    "    rgb_threshold = np.array([200, 200, 200])\n",
    "    upper_threshold = np.array([255, 255, 255])\n",
    "    mask = cv2.inRange(input_image, rgb_threshold, upper_threshold)\n",
    "    white_image = cv2.bitwise_and(input_image, input_image, mask=mask)\n",
    "    white_rgb2gray = cv2.cvtColor(white_image, cv2.COLOR_RGB2GRAY)\n",
    "    binary_white_image = np.zeros_like(white_rgb2gray)\n",
    "    binary_white_image[white_rgb2gray > 0] = 1\n",
    "    \n",
    "    if debug_logging:\n",
    "        plt.imshow(binary_white_image)\n",
    "        plt.title(\"white_image threshold RGB\")\n",
    "        plt.show()\n",
    "    \n",
    "    # Select yellow color in RGB space\n",
    "    yellow_threshold_lower = np.array([200,90,50])\n",
    "    yellow_upper_threshold = np.array([255,220,140])\n",
    "    mask = cv2.inRange(input_image, yellow_threshold_lower, yellow_upper_threshold)\n",
    "    yellow_image = cv2.bitwise_and(input_image, input_image, mask=mask)\n",
    "    yellow_rgb2gray = cv2.cvtColor(yellow_image, cv2.COLOR_RGB2GRAY)\n",
    "    binary_yellow_image = np.zeros_like(yellow_rgb2gray)\n",
    "    binary_yellow_image[yellow_rgb2gray > 0] = 1\n",
    "    \n",
    "    if debug_logging:\n",
    "        plt.imshow(binary_yellow_image)\n",
    "        plt.title(\"yellow_image threshold RGB\")\n",
    "        plt.show()\n",
    "\n",
    "    # Combine the 3 images.\n",
    "    binary_image = np.zeros_like(binary_yellow_image)\n",
    "    binary_image[(binary_yellow_image_hls==1) | (binary_white_image==1) | (binary_yellow_image==1)] = 1\n",
    "\n",
    "    if debug_logging:\n",
    "        plt.imshow(binary_image)\n",
    "        plt.title(\"color threshold\")\n",
    "        plt.show()\n",
    "        \n",
    "    return binary_image"
   ]
  },
  {
   "cell_type": "markdown",
   "metadata": {},
   "source": [
    "### This is the stage-4 of the pipeline : Apply sobel operator in X/Y directions\n"
   ]
  },
  {
   "cell_type": "code",
   "execution_count": 11,
   "metadata": {
    "collapsed": true
   },
   "outputs": [],
   "source": [
    "\n",
    "def abs_sobel_thresh(image, debug_logging, sobel_kernel = 5, direction='x', thresh=(10, 255)):\n",
    "    \"\"\"\n",
    "    This function calculates the directional gradient in the x or y directions.\n",
    "    Input params : \n",
    "                   input_image : Image for which gradient needs to be computed.\n",
    "                   sobel_kernel : size of the sobel kernel.\n",
    "                   direction : direction in which to take the gradient , x or y\n",
    "                   thresh : min and max thresholding on the pixel values\n",
    "    \"\"\"\n",
    "    if direction == 'x':\n",
    "        sobel = cv2.Sobel(image, cv2.CV_64F, 1, 0, ksize=sobel_kernel)\n",
    "    elif direction == 'y':\n",
    "        sobel = cv2.Sobel(image, cv2.CV_64F, 0, 1, ksize=sobel_kernel)\n",
    "    else:    \n",
    "        assert False, \"Invalid directions\"\n",
    "\n",
    "    abs_sobel = np.absolute(sobel)\n",
    "    scaled_sobel = np.uint8(255*abs_sobel/np.max(abs_sobel))\n",
    "    binary_image = np.zeros_like(image)\n",
    "    binary_image[(scaled_sobel >= thresh[0]) & (scaled_sobel <= thresh[1])] = 1\n",
    "    \n",
    "    if debug_logging:\n",
    "        plt.imshow(binary_image)\n",
    "        plt.title(\"Threshold image - grad {}\".format(direction))\n",
    "        plt.show()\n",
    "        \n",
    "    return binary_image"
   ]
  },
  {
   "cell_type": "markdown",
   "metadata": {},
   "source": [
    "### This is the stage-5 of the pipeline : Apply magnitude based sobel operator\n"
   ]
  },
  {
   "cell_type": "code",
   "execution_count": 12,
   "metadata": {
    "collapsed": true
   },
   "outputs": [],
   "source": [
    "\n",
    "def mag_threshold(image, sobel_kernel = 5, thresh=(50, 150), debug_logging=False):\n",
    "    \"\"\"\n",
    "    This function applies the threshold on the magnitude of the gradient.\n",
    "    Input params : \n",
    "               input_image : Image for which gradient needs to be computed.\n",
    "               sobel_kernel : size of the sobel kernel.\n",
    "               thresh : min and max thresholding on the pixel values\n",
    "    \"\"\"\n",
    "    sobelx = cv2.Sobel(image, cv2.CV_64F, 1, 0, ksize=sobel_kernel)\n",
    "    sobely = cv2.Sobel(image, cv2.CV_64F, 0, 1, ksize=sobel_kernel)\n",
    "    gradmag = np.sqrt(np.square(sobelx) + np.square(sobely))\n",
    "    scaled_sobel = np.uint8((255*gradmag)/np.max(gradmag))\n",
    "    \n",
    "    binary_image = np.zeros_like(image)\n",
    "    binary_image[(scaled_sobel >= thresh[0]) & (scaled_sobel <= thresh[1])] = 1\n",
    "\n",
    "    if debug_logging:\n",
    "        plt.imshow(binary_image)\n",
    "        plt.title(\"Mag threshold\")\n",
    "        plt.show()\n",
    "        \n",
    "    # Return the binary image\n",
    "    return binary_image"
   ]
  },
  {
   "cell_type": "markdown",
   "metadata": {},
   "source": [
    "### This is the stage-6 of the pipeline : Apply directional sobel operator\n"
   ]
  },
  {
   "cell_type": "code",
   "execution_count": 13,
   "metadata": {
    "collapsed": true
   },
   "outputs": [],
   "source": [
    "\n",
    "def dir_threshold(image, sobel_kernel = 5, thresh=(.7, 1.1), debug_logging=False):\n",
    "    \"\"\"\n",
    "    This function applies the threshold on the direction of the gradient.\n",
    "    \n",
    "    \"\"\"\n",
    "    sobelx = np.absolute(cv2.Sobel(image, cv2.CV_64F, 1, 0, ksize=sobel_kernel))\n",
    "    sobely = np.absolute(cv2.Sobel(image, cv2.CV_64F, 0, 1, ksize=sobel_kernel))\n",
    "    sobel_dir = np.arctan2(np.absolute(sobely), np.absolute(sobelx))\n",
    "    binary_image =  np.zeros_like(image)\n",
    "    binary_image[(sobel_dir >= thresh[0]) & (sobel_dir <= thresh[1])] = 1\n",
    "    \n",
    "    if debug_logging:\n",
    "        plt.imshow(binary_image)\n",
    "        plt.title(\"dir threshold\")\n",
    "        plt.show()\n",
    "        \n",
    "    return binary_image"
   ]
  },
  {
   "cell_type": "markdown",
   "metadata": {},
   "source": [
    "### This is the stage-7 of the pipeline : Combine the sobel thresholds with color threshold\n"
   ]
  },
  {
   "cell_type": "code",
   "execution_count": 14,
   "metadata": {
    "collapsed": true
   },
   "outputs": [],
   "source": [
    "def combine_sobel(binary_image_gradx, binary_image_grady, \n",
    "                  binary_image_mag, binary_image_dir, binary_color_threshold):\n",
    "    \"\"\"\n",
    "    This function combines the output of all the sobel operations \n",
    "    with the ouput of the color threshold.\n",
    "    \"\"\"\n",
    "    combined_threshold = np.zeros_like(binary_image_dir)\n",
    "    combined_threshold[((binary_image_gradx == 1) & (binary_image_grady == 1))\n",
    "                       | ((binary_image_mag == 1) & (binary_image_dir == 1))] = 1\n",
    "    \n",
    "\n",
    "    # Combined color and gradient threshold.\n",
    "    color_grad_binary = np.zeros_like(combined_threshold)\n",
    "    color_grad_binary[(binary_color_threshold ==1) | (combined_threshold ==1)] = 1\n",
    "\n",
    "    return color_grad_binary"
   ]
  },
  {
   "cell_type": "markdown",
   "metadata": {},
   "source": [
    "### This is the stage-8 of the pipeline : Apply masking\n"
   ]
  },
  {
   "cell_type": "code",
   "execution_count": 15,
   "metadata": {
    "collapsed": true
   },
   "outputs": [],
   "source": [
    "\n",
    "def mask_region_of_interest(input_image, vertices, debug_logging=False):\n",
    "    \"\"\"\n",
    "    This function defines a region of interest in which \n",
    "    we will search for the lane lines.\n",
    "    Input param :\n",
    "                input_image : Input image\n",
    "    \"\"\"\n",
    "    \n",
    "    shape = input_image.shape\n",
    "    mask = np.zeros_like(input_image)\n",
    "\n",
    "    #defining a 3 channel or 1 channel color to fill the mask with depending on the input image\n",
    "    if len(shape) > 2:\n",
    "        channel_count = shape[2]\n",
    "        ignore_mask_color = (255,) * channel_count\n",
    "    else:\n",
    "        ignore_mask_color = 255\n",
    "\n",
    "    #filling pixels inside the polygon defined by \"vertices\" with the fill color \n",
    "    cv2.fillPoly(mask, vertices, ignore_mask_color)\n",
    "    masked_image = cv2.bitwise_and(input_image, mask)\n",
    "\n",
    "    if debug_logging:  \n",
    "        print(\"Stage-8 : mask_region_of_interest method invoked !\")\n",
    "        plt.imshow(masked_image)\n",
    "        plt.title(\"This is the region of interest image - Stage 8\")\n",
    "        plt.show()\n",
    "\n",
    "    return masked_image"
   ]
  },
  {
   "cell_type": "markdown",
   "metadata": {},
   "source": [
    "### This is the stage-9 of the pipeline : Apply perspective transform\n"
   ]
  },
  {
   "cell_type": "code",
   "execution_count": 16,
   "metadata": {
    "collapsed": true
   },
   "outputs": [],
   "source": [
    "\n",
    "def perspective_transform(input_image, debug_logging=False):\n",
    "    \n",
    "    offset1 = 200 # offset for dst points x value\n",
    "    offset2 = 0 # offset for dst points bottom y value\n",
    "    offset3 = 0 # offset for dst points top y value\n",
    "    image_size = (input_image.shape[1], input_image.shape[0])\n",
    "    src_points = np.float32([[550,460],[720,460],[1100,670],[130,670]])\n",
    "    dst_points = np.float32([[offset1, offset3], \n",
    "                      [image_size[0]-offset1, offset3], \n",
    "                      [image_size[0]-offset1, image_size[1]-offset2], \n",
    "                      [offset1, image_size[1]-offset2]])\n",
    "    \n",
    "    perspective_transform = cv2.getPerspectiveTransform(src_points, dst_points)\n",
    "    Minv = cv2.getPerspectiveTransform(dst_points, src_points)\n",
    "\n",
    "    warped_image = cv2.warpPerspective(input_image, perspective_transform, image_size, flags=cv2.INTER_LINEAR)\n",
    "    \n",
    "    if debug_logging:\n",
    "        plt.imshow(warped_image)\n",
    "        plt.title(\"warped image\")\n",
    "        plt.show()\n",
    "        \n",
    "    return warped_image, Minv"
   ]
  },
  {
   "cell_type": "markdown",
   "metadata": {},
   "source": [
    "### This is the stage-10 of the pipeline - Apply sliding window\n"
   ]
  },
  {
   "cell_type": "code",
   "execution_count": 17,
   "metadata": {
    "collapsed": true
   },
   "outputs": [],
   "source": [
    "\n",
    "def sliding_window(binary_warped, debug_logging=False):\n",
    "    \"\"\"\n",
    "    This function does a search in the wrapped image for the \n",
    "    lane lines using sliding window algorithm.\n",
    "    \n",
    "    Input params : binary_warped, wrapped binary image.\n",
    "    \"\"\"\n",
    "    \n",
    "    #Tunable parameters\n",
    "    # Choose the number of sliding windows\n",
    "    nwindows = 15\n",
    "    # Set the width of the windows +/- margin\n",
    "    margin = 70\n",
    "    # Set minimum number of pixels found to recenter window\n",
    "    minpix = 30\n",
    "    \n",
    "    # Take a histogram of the bottom half of the image\n",
    "    bottom_half = int(binary_warped.shape[0]/2)\n",
    "    histogram = np.sum(binary_warped[bottom_half:,:], axis=0)\n",
    "    \n",
    "    if debug_logging:\n",
    "         plt.plot(histogram)\n",
    "         plt.title(\"Histogram\")\n",
    "         plt.show()\n",
    "            \n",
    "    # Create an output image to draw on and  visualize the result\n",
    "    out_img = np.dstack((binary_warped, binary_warped, binary_warped))*255\n",
    "    # Find the peak of the left and right halves of the histogram\n",
    "    # These will be the starting point for the left and right lines\n",
    "    midpoint = np.int(binary_warped.shape[1]/2)\n",
    "    leftx_base = np.argmax(histogram[:midpoint])\n",
    "    rightx_base = np.argmax(histogram[midpoint:]) + midpoint\n",
    "\n",
    "    # Set height of windows\n",
    "    window_height = np.int(binary_warped.shape[0]/nwindows)\n",
    "    # Identify the x and y positions of all nonzero pixels in the image\n",
    "    nonzero = binary_warped.nonzero()\n",
    "    nonzeroy = np.array(nonzero[0])\n",
    "    nonzerox = np.array(nonzero[1])\n",
    "    # Current positions to be updated for each window\n",
    "    leftx_current = leftx_base\n",
    "    rightx_current = rightx_base\n",
    "\n",
    "    # Create empty lists to receive left and right lane pixel indices\n",
    "    left_lane_inds = []\n",
    "    right_lane_inds = []\n",
    "\n",
    "    # Step through the windows one by one\n",
    "    for window in range(nwindows):\n",
    "        # Identify window boundaries in x and y (and right and left)\n",
    "        win_y_low = binary_warped.shape[0] - (window+1)*window_height\n",
    "        win_y_high = binary_warped.shape[0] - window*window_height\n",
    "        win_xleft_low = leftx_current - margin\n",
    "        win_xleft_high = leftx_current + margin\n",
    "        win_xright_low = rightx_current - margin\n",
    "        win_xright_high = rightx_current + margin\n",
    "        # Draw the windows on the visualization image\n",
    "        cv2.rectangle(out_img,(win_xleft_low,win_y_low),(win_xleft_high,win_y_high),\n",
    "        (0,255,0), 2) \n",
    "        cv2.rectangle(out_img,(win_xright_low,win_y_low),(win_xright_high,win_y_high),\n",
    "        (0,255,0), 2) \n",
    "        # Identify the nonzero pixels in x and y within the window\n",
    "        good_left_inds = ((nonzeroy >= win_y_low) & (nonzeroy < win_y_high) & \n",
    "        (nonzerox >= win_xleft_low) &  (nonzerox < win_xleft_high)).nonzero()[0]\n",
    "        good_right_inds = ((nonzeroy >= win_y_low) & (nonzeroy < win_y_high) & \n",
    "        (nonzerox >= win_xright_low) &  (nonzerox < win_xright_high)).nonzero()[0]\n",
    "        # Append these indices to the lists\n",
    "        left_lane_inds.append(good_left_inds)\n",
    "        right_lane_inds.append(good_right_inds)\n",
    "        # If you found > minpix pixels, recenter next window on their mean position\n",
    "        if len(good_left_inds) > minpix:\n",
    "            leftx_current = np.int(np.mean(nonzerox[good_left_inds]))\n",
    "        if len(good_right_inds) > minpix:        \n",
    "            rightx_current = np.int(np.mean(nonzerox[good_right_inds]))\n",
    "\n",
    "    # Concatenate the arrays of indices\n",
    "    left_lane_inds = np.concatenate(left_lane_inds)\n",
    "    right_lane_inds = np.concatenate(right_lane_inds)\n",
    "\n",
    "    # Extract left and right line pixel positions\n",
    "    leftx = nonzerox[left_lane_inds]\n",
    "    lefty = nonzeroy[left_lane_inds] \n",
    "    rightx = nonzerox[right_lane_inds]\n",
    "    righty = nonzeroy[right_lane_inds] \n",
    "\n",
    "    # Fit a second order polynomial to each\n",
    "    left_fit = np.polyfit(lefty, leftx, 2)\n",
    "    right_fit = np.polyfit(righty, rightx, 2)\n",
    "\n",
    "    # Generate x and y values for plotting\n",
    "    ploty = np.linspace(0, binary_warped.shape[0]-1, binary_warped.shape[0] )\n",
    "    left_fitx =  left_fit[0]*ploty**2 + left_fit[1]*ploty + left_fit[2]\n",
    "    right_fitx = right_fit[0]*ploty**2 + right_fit[1]*ploty + right_fit[2]\n",
    "    #binary_warped.shape[0] -\n",
    "    out_img[nonzeroy[left_lane_inds], nonzerox[left_lane_inds]] = [255, 0, 0]\n",
    "    out_img[nonzeroy[right_lane_inds], nonzerox[right_lane_inds]] = [0, 0, 255]\n",
    "    \n",
    "    if debug_logging:\n",
    "        plt.imshow(out_img)\n",
    "        plt.plot(left_fitx, ploty, color='yellow')\n",
    "        plt.plot(right_fitx, ploty, color='yellow')\n",
    "        plt.xlim(0, 1280)\n",
    "        plt.ylim(720, 0)\n",
    "        plt.show()\n",
    "\n",
    "    return left_fitx, right_fitx, leftx, rightx, lefty, righty, leftx_base, rightx_base"
   ]
  },
  {
   "cell_type": "markdown",
   "metadata": {},
   "source": [
    "### This is the stage-11 of the pipeline : Draw the lane lines\n"
   ]
  },
  {
   "cell_type": "code",
   "execution_count": 18,
   "metadata": {
    "collapsed": true
   },
   "outputs": [],
   "source": [
    "\n",
    "def draw(undist, warped, Minv, left_fitx, right_fitx):\n",
    "    \"\"\"\n",
    "    This functions overlays the original undistored image with the wrapped\n",
    "    image with lanes identified.\n",
    "    \n",
    "    Input params : undist : Undistored image.\n",
    "                   warped : Wrapped image\n",
    "                   Minv : Inverse perspective transform\n",
    "                   left_fitx : Polynomial coefficients for the x line.\n",
    "                   right_fitx : Polynomial coefficients for the x line.\n",
    "    \"\"\"\n",
    "    \n",
    "    ploty = np.linspace(0, warped.shape[0]-1, warped.shape[0] )\n",
    "\n",
    "    # Create an image to draw the lines on\n",
    "    warp_zero = np.zeros_like(warped).astype(np.uint8)\n",
    "    color_warp = np.dstack((warp_zero, warp_zero, warp_zero))\n",
    "\n",
    "    # Recast the x and y points into usable format for cv2.fillPoly()\n",
    "    pts_left = np.array([np.transpose(np.vstack([left_fitx, ploty]))])\n",
    "    pts_right = np.array([np.flipud(np.transpose(np.vstack([right_fitx, ploty])))])\n",
    "    pts = np.hstack((pts_left, pts_right))\n",
    "\n",
    "    # Draw the lane onto the warped blank image\n",
    "    cv2.fillPoly(color_warp, np.int_([pts]), (0,255, 0))\n",
    "\n",
    "    # Warp the blank back to original image space using inverse perspective matrix (Minv)\n",
    "    newwarp = cv2.warpPerspective(color_warp, Minv, (warped.shape[1], warped.shape[0])) \n",
    "    # Combine the result with the original image\n",
    "    result = cv2.addWeighted(undist, 1, newwarp, 0.3, 0)\n",
    "\n",
    "    return result"
   ]
  },
  {
   "cell_type": "markdown",
   "metadata": {},
   "source": [
    "### This is the stage-12 of the pipeline : Find the radius of curvature\n"
   ]
  },
  {
   "cell_type": "code",
   "execution_count": 19,
   "metadata": {
    "collapsed": true
   },
   "outputs": [],
   "source": [
    "\n",
    "def radius_of_curvature(image_shape, leftx, rightx, lefty, righty):\n",
    "    \"\"\"\n",
    "    This function calculates the radius of curvature of the lane lines.\n",
    "    Input params : image_shape : Tuple representing the shape of the original image.\n",
    "                   leftx : pixels in x direction on the left lane.\n",
    "                   rightx : pixels in x direction on the right lane.\n",
    "                   lefty : pixels in y direction on the left lane.\n",
    "                   righty : pixels in y direction on the right lane.\n",
    "    \"\"\"\n",
    "    \n",
    "    ym_per_pix = 30/720 # meters per pixel in y dimension\n",
    "    xm_per_pix = 3.7/700 # meters per pixel in x dimension\n",
    "    y_eval = image_shape[0]*ym_per_pix\n",
    "\n",
    "    # Fit new polynomials to x,y in world space\n",
    "    left_fit = np.polyfit(lefty*ym_per_pix, leftx*xm_per_pix, 2)\n",
    "    right_fit = np.polyfit(righty*ym_per_pix, rightx*xm_per_pix, 2)\n",
    "\n",
    "    left_curverad = ((1 + (2*left_fit[0]*y_eval + left_fit[1])**2)**1.5) / np.absolute(2*left_fit[0])\n",
    "    right_curverad = ((1 + (2*right_fit[0]*y_eval + right_fit[1])**2)**1.5) / np.absolute(2*right_fit[0])\n",
    "\n",
    "    return float(\"{0:.2f}\".format(left_curverad)), float(\"{0:.2f}\".format(right_curverad))"
   ]
  },
  {
   "cell_type": "markdown",
   "metadata": {},
   "source": [
    "### This is the stage-13 of the pipeline : Calc distance from center\n"
   ]
  },
  {
   "cell_type": "code",
   "execution_count": 20,
   "metadata": {
    "collapsed": true
   },
   "outputs": [],
   "source": [
    "\n",
    "def distance_from_center(original_shape, leftx_base, rightx_base):\n",
    "    \"\"\"\n",
    "    This function calculates the offset between the center of the image\n",
    "    and the center of the lane.\n",
    "    \"\"\"\n",
    "    m_in_pixel = 3.7/700 # convert from pixel space to meters\n",
    "    image_center = [int(original_shape[1]/2), original_shape[0]]\n",
    "    lane_center = int((leftx_base + rightx_base)/2)\n",
    "    \n",
    "    return float(\"{0:.2f}\".format((lane_center - image_center[0]) * m_in_pixel))\n"
   ]
  },
  {
   "cell_type": "markdown",
   "metadata": {},
   "source": [
    "### Execute the pipeline"
   ]
  },
  {
   "cell_type": "code",
   "execution_count": 26,
   "metadata": {
    "collapsed": true
   },
   "outputs": [],
   "source": [
    "def execute_pipeline(original_image):\n",
    "\n",
    "    \"\"\"\n",
    "    This function executes the lane finding pipeline end to end.\n",
    "    Since camera calibration needs to be performed only once,\n",
    "    it is executed outside the pipleline context.\n",
    "    \n",
    "    Input params: original_image\n",
    "    Return params : Image with lanes identified.\n",
    "    \n",
    "    \"\"\"\n",
    "    shape = original_image.shape\n",
    "    \n",
    "    #Tunable parameters\n",
    "    quad_height = 0.61\n",
    "    quad_base_len = 950\n",
    "    quad_top_len = 140\n",
    "    debug_logging=False\n",
    "    \n",
    "    ######## Execute Stage-1 #############\n",
    "    \n",
    "    undistorted_image = undistort(original_image, debug_logging)\n",
    "\n",
    "    ######## Execute Stage-2 #############\n",
    "    \n",
    "    filtered_image = gaussian_filter(undistorted_image)\n",
    "    \n",
    "    ######## Execute Stage-3 #############\n",
    "    \n",
    "    binary_color_threshold = color_threshold(filtered_image)\n",
    "    \n",
    "    ######## Execute Stage-4 #############\n",
    "    \n",
    "    # Convert to HLS space before taking gradient\n",
    "    hls = cv2.cvtColor(original_image, cv2.COLOR_RGB2HLS)\n",
    "    #saturation channel \n",
    "    saturation = hls[:,:,2]\n",
    "\n",
    "    binary_image_gradx = abs_sobel_thresh(saturation, debug_logging, thresh=(35, 120))\n",
    "    binary_image_grady = abs_sobel_thresh(saturation, debug_logging, direction='y', thresh=(35, 120))\n",
    "    \n",
    "    ######## Execute Stage-5 #############\n",
    "\n",
    "    binary_image_mag = mag_threshold(saturation, debug_logging)\n",
    "\n",
    "    ######## Execute Stage-6 #############\n",
    "    \n",
    "    binary_image_dir = dir_threshold(saturation, debug_logging)\n",
    "    \n",
    "    ######## Execute Stage-7 #############\n",
    "\n",
    "    color_grad_binary = combine_sobel(binary_image_gradx, binary_image_grady, \\\n",
    "                        binary_image_mag, binary_image_dir, binary_color_threshold)\n",
    "    \n",
    "    ######## Execute Stage-8 #############\n",
    "\n",
    "    ylength = shape[0]\n",
    "    xlength = shape[1]\n",
    "    #To clip the hood of the car\n",
    "    y_offset  = 40 \n",
    "    \n",
    "    quad_height_abs = ylength*quad_height\n",
    "\n",
    "    vertices = np.array([[((xlength - quad_base_len)/2, ylength-y_offset),\n",
    "                          ((xlength - quad_top_len)/2, quad_height_abs), \n",
    "                          ((xlength + quad_top_len)/2, quad_height_abs),\n",
    "                          ((xlength + quad_base_len)/2, ylength-y_offset)]],\n",
    "                          dtype=np.int32)\n",
    "    \n",
    "    masked_image = mask_region_of_interest(color_grad_binary, vertices, debug_logging)\n",
    "\n",
    "    ######## Execute Stage-9 #############\n",
    "\n",
    "    wrapped_image, Minv = perspective_transform(masked_image, debug_logging)\n",
    "\n",
    "    ######## Execute Stage-10 #############\n",
    "\n",
    "    left_fitx, right_fitx, leftx, rightx, lefty, righty, leftx_base, rightx_base = \\\n",
    "    sliding_window(wrapped_image, debug_logging)\n",
    "\n",
    "    ######## Execute Stage-11 #############\n",
    "    \n",
    "    result = draw(undistorted_image, wrapped_image, Minv, left_fitx, right_fitx)\n",
    "    \n",
    "    ######## Execute Stage-12 #############\n",
    "\n",
    "    left_curverad, right_curverad = radius_of_curvature(undistorted_image.shape, leftx, rightx, lefty, righty)\n",
    "    cv2.putText(result, \"Lane Curvature: \" + str(left_curverad) + \" meters\", (100, 100), cv2.FONT_HERSHEY_SIMPLEX, 2, (255,0,0),2)\n",
    "    \n",
    "    ######## Execute Stage-13 #############\n",
    "\n",
    "    lane_center = distance_from_center(original_image.shape, left_fitx[-1], right_fitx[-1])\n",
    "    cv2.putText(result, \"Lane Offset: \" + str(lane_center) + \" meters\", (100, 200), cv2.FONT_HERSHEY_SIMPLEX, 2, (255,0,0),2)\n",
    "    \n",
    "    if debug_logging:\n",
    "        plt.imshow(result)\n",
    "        plt.title(\"Final image with lanes identified.\")\n",
    "        plt.show()\n",
    "        \n",
    "    return result"
   ]
  },
  {
   "cell_type": "markdown",
   "metadata": {},
   "source": [
    "### Main drivers"
   ]
  },
  {
   "cell_type": "code",
   "execution_count": 22,
   "metadata": {
    "collapsed": true
   },
   "outputs": [],
   "source": [
    "# Process images\n",
    "\n",
    "def main_image():\n",
    "    \n",
    "    calibrate_camera()\n",
    "\n",
    "    test_images = os.listdir('test_images')\n",
    "\n",
    "    for image_name in test_images:\n",
    "        image_path = os.path.join('test_images', image_name)\n",
    "        original_image = mpimg.imread(image_path)\n",
    "        wrap = execute_pipeline(original_image)\n",
    "        output_image_path = os.path.join('test_images_output', 'final_s_chal'+ image_name )\n",
    "        plt.imsave(output_image_path, wrap)\n",
    "    "
   ]
  },
  {
   "cell_type": "code",
   "execution_count": 23,
   "metadata": {
    "collapsed": true
   },
   "outputs": [],
   "source": [
    "def main_video():\n",
    "    \n",
    "    calibrate_camera()\n",
    "    \n",
    "    video_name = \"project_video.mp4\"\n",
    "    video_path = video_name\n",
    "    clip = VideoFileClip(video_path)\n",
    "    final_video_path = os.path.join('test_videos_output', 'final_' + video_name)\n",
    "\n",
    "    video_clip = clip.fl_image(execute_pipeline)\n",
    "    %time video_clip.write_videofile(final_video_path, audio=False)\n",
    "\n",
    "    HTML(\"\"\"\n",
    "        <video width=\"960\" height=\"540\" controls>\n",
    "        <source src=\"{0}\">\n",
    "        </video>\n",
    "        \"\"\".format(final_video_path))\n"
   ]
  },
  {
   "cell_type": "code",
   "execution_count": null,
   "metadata": {},
   "outputs": [],
   "source": [
    "main_image()"
   ]
  },
  {
   "cell_type": "code",
   "execution_count": 36,
   "metadata": {
    "collapsed": true
   },
   "outputs": [],
   "source": [
    "main_video()"
   ]
  }
 ],
 "metadata": {
  "kernelspec": {
   "display_name": "Python 3",
   "language": "python",
   "name": "python3"
  },
  "language_info": {
   "codemirror_mode": {
    "name": "ipython",
    "version": 3
   },
   "file_extension": ".py",
   "mimetype": "text/x-python",
   "name": "python",
   "nbconvert_exporter": "python",
   "pygments_lexer": "ipython3",
   "version": "3.5.2"
  },
  "widgets": {
   "state": {},
   "version": "1.1.2"
  }
 },
 "nbformat": 4,
 "nbformat_minor": 2
}
